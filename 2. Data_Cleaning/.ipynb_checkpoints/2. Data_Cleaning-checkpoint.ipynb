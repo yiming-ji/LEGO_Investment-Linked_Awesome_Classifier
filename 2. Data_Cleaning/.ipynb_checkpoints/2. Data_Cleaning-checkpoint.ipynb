{
 "cells": [
  {
   "cell_type": "code",
   "execution_count": 1,
   "metadata": {},
   "outputs": [],
   "source": [
    "import numpy as np\n",
    "import pandas as pd\n",
    "import matplotlib.pyplot as plt\n",
    "import warnings\n",
    "warnings.filterwarnings(\"ignore\")"
   ]
  },
  {
   "cell_type": "code",
   "execution_count": 14,
   "metadata": {},
   "outputs": [
    {
     "data": {
      "text/html": [
       "<div>\n",
       "<style scoped>\n",
       "    .dataframe tbody tr th:only-of-type {\n",
       "        vertical-align: middle;\n",
       "    }\n",
       "\n",
       "    .dataframe tbody tr th {\n",
       "        vertical-align: top;\n",
       "    }\n",
       "\n",
       "    .dataframe thead th {\n",
       "        text-align: right;\n",
       "    }\n",
       "</style>\n",
       "<table border=\"1\" class=\"dataframe\">\n",
       "  <thead>\n",
       "    <tr style=\"text-align: right;\">\n",
       "      <th></th>\n",
       "      <th>set_num</th>\n",
       "      <th>name</th>\n",
       "      <th>year</th>\n",
       "      <th>theme_id</th>\n",
       "      <th>num_parts</th>\n",
       "    </tr>\n",
       "  </thead>\n",
       "  <tbody>\n",
       "    <tr>\n",
       "      <th>0</th>\n",
       "      <td>001-1</td>\n",
       "      <td>Gears</td>\n",
       "      <td>1965</td>\n",
       "      <td>1</td>\n",
       "      <td>43</td>\n",
       "    </tr>\n",
       "    <tr>\n",
       "      <th>1</th>\n",
       "      <td>0011-2</td>\n",
       "      <td>Town Mini-Figures</td>\n",
       "      <td>1978</td>\n",
       "      <td>84</td>\n",
       "      <td>12</td>\n",
       "    </tr>\n",
       "    <tr>\n",
       "      <th>2</th>\n",
       "      <td>0011-3</td>\n",
       "      <td>Castle 2 for 1 Bonus Offer</td>\n",
       "      <td>1987</td>\n",
       "      <td>199</td>\n",
       "      <td>0</td>\n",
       "    </tr>\n",
       "    <tr>\n",
       "      <th>3</th>\n",
       "      <td>0012-1</td>\n",
       "      <td>Space Mini-Figures</td>\n",
       "      <td>1979</td>\n",
       "      <td>143</td>\n",
       "      <td>12</td>\n",
       "    </tr>\n",
       "    <tr>\n",
       "      <th>4</th>\n",
       "      <td>0013-1</td>\n",
       "      <td>Space Mini-Figures</td>\n",
       "      <td>1979</td>\n",
       "      <td>143</td>\n",
       "      <td>12</td>\n",
       "    </tr>\n",
       "  </tbody>\n",
       "</table>\n",
       "</div>"
      ],
      "text/plain": [
       "  set_num                        name  year  theme_id  num_parts\n",
       "0   001-1                       Gears  1965         1         43\n",
       "1  0011-2           Town Mini-Figures  1978        84         12\n",
       "2  0011-3  Castle 2 for 1 Bonus Offer  1987       199          0\n",
       "3  0012-1          Space Mini-Figures  1979       143         12\n",
       "4  0013-1          Space Mini-Figures  1979       143         12"
      ]
     },
     "metadata": {},
     "output_type": "display_data"
    },
    {
     "data": {
      "text/plain": [
       "(16195, 5)"
      ]
     },
     "metadata": {},
     "output_type": "display_data"
    }
   ],
   "source": [
    "#load in Lego_sets data as a reference\n",
    "lego_sets = pd.read_csv('data/lego_sets_01_03_2021.csv')\n",
    "display(lego_sets.head())\n",
    "display(lego_sets.shape)"
   ]
  },
  {
   "cell_type": "markdown",
   "metadata": {},
   "source": [
    "#### BrickEconomy\n",
    "Start with the data scraped from BrickEconomy as it has the most comprehensive information, e.g. original retail values, current values, growth."
   ]
  },
  {
   "cell_type": "code",
   "execution_count": 15,
   "metadata": {},
   "outputs": [
    {
     "data": {
      "text/html": [
       "<div>\n",
       "<style scoped>\n",
       "    .dataframe tbody tr th:only-of-type {\n",
       "        vertical-align: middle;\n",
       "    }\n",
       "\n",
       "    .dataframe tbody tr th {\n",
       "        vertical-align: top;\n",
       "    }\n",
       "\n",
       "    .dataframe thead th {\n",
       "        text-align: right;\n",
       "    }\n",
       "</style>\n",
       "<table border=\"1\" class=\"dataframe\">\n",
       "  <thead>\n",
       "    <tr style=\"text-align: right;\">\n",
       "      <th></th>\n",
       "      <th>set_num</th>\n",
       "      <th>Retail</th>\n",
       "      <th>Value</th>\n",
       "      <th>Growth</th>\n",
       "      <th>Annual growth</th>\n",
       "      <th>Available at</th>\n",
       "      <th>Not yet</th>\n",
       "    </tr>\n",
       "  </thead>\n",
       "  <tbody>\n",
       "    <tr>\n",
       "      <th>0</th>\n",
       "      <td>001-1</td>\n",
       "      <td>C$6.68</td>\n",
       "      <td>C$93.78</td>\n",
       "      <td>1303.4%</td>\n",
       "      <td>4.9%</td>\n",
       "      <td>NaN</td>\n",
       "      <td>NaN</td>\n",
       "    </tr>\n",
       "    <tr>\n",
       "      <th>1</th>\n",
       "      <td>0011-2</td>\n",
       "      <td>C$6.06</td>\n",
       "      <td>C$78.65</td>\n",
       "      <td>1197.6%</td>\n",
       "      <td>6.5%</td>\n",
       "      <td>NaN</td>\n",
       "      <td>NaN</td>\n",
       "    </tr>\n",
       "    <tr>\n",
       "      <th>2</th>\n",
       "      <td>0011-3</td>\n",
       "      <td>C$10.13</td>\n",
       "      <td>C$828.62</td>\n",
       "      <td>8083.9%</td>\n",
       "      <td>14.3%</td>\n",
       "      <td>NaN</td>\n",
       "      <td>NaN</td>\n",
       "    </tr>\n",
       "    <tr>\n",
       "      <th>3</th>\n",
       "      <td>0012-1</td>\n",
       "      <td>C$2.69</td>\n",
       "      <td>C$387.68</td>\n",
       "      <td>14330.7%</td>\n",
       "      <td>12.6%</td>\n",
       "      <td>NaN</td>\n",
       "      <td>NaN</td>\n",
       "    </tr>\n",
       "    <tr>\n",
       "      <th>4</th>\n",
       "      <td>0013-1</td>\n",
       "      <td>C$2.69</td>\n",
       "      <td>C$344.33</td>\n",
       "      <td>12717.1%</td>\n",
       "      <td>12.3%</td>\n",
       "      <td>NaN</td>\n",
       "      <td>NaN</td>\n",
       "    </tr>\n",
       "  </tbody>\n",
       "</table>\n",
       "</div>"
      ],
      "text/plain": [
       "  set_num   Retail     Value    Growth Annual growth Available at Not yet\n",
       "0   001-1   C$6.68   C$93.78   1303.4%          4.9%          NaN     NaN\n",
       "1  0011-2   C$6.06   C$78.65   1197.6%          6.5%          NaN     NaN\n",
       "2  0011-3  C$10.13  C$828.62   8083.9%         14.3%          NaN     NaN\n",
       "3  0012-1   C$2.69  C$387.68  14330.7%         12.6%          NaN     NaN\n",
       "4  0013-1   C$2.69  C$344.33  12717.1%         12.3%          NaN     NaN"
      ]
     },
     "metadata": {},
     "output_type": "display_data"
    },
    {
     "data": {
      "text/plain": [
       "(14246, 7)"
      ]
     },
     "metadata": {},
     "output_type": "display_data"
    }
   ],
   "source": [
    "brick_economy = pd.read_csv('data/brick_econ_overview01112021.csv')\n",
    "display(brick_economy.head())\n",
    "display(brick_economy.shape)"
   ]
  },
  {
   "cell_type": "code",
   "execution_count": 16,
   "metadata": {},
   "outputs": [
    {
     "data": {
      "text/plain": [
       "set_num          0.000000\n",
       "Retail           0.174786\n",
       "Value            0.144251\n",
       "Growth           0.320651\n",
       "Annual growth    0.224835\n",
       "Available at     0.920118\n",
       "Not yet          0.999930\n",
       "dtype: float64"
      ]
     },
     "execution_count": 16,
     "metadata": {},
     "output_type": "execute_result"
    }
   ],
   "source": [
    "# Check for nulls\n",
    "brick_economy.isna().mean()"
   ]
  },
  {
   "cell_type": "code",
   "execution_count": 17,
   "metadata": {},
   "outputs": [],
   "source": [
    "# Drop the last two columns with a large portion of null values\n",
    "brick_economy = brick_economy.drop(['Available at', 'Not yet'], axis =1)\n",
    "\n",
    "# Rename columns to be consistent with other tables\n",
    "brick_economy = brick_economy.rename(columns = \n",
    "        {'Retail': 'rrp', 'Value': 'current_value', 'Growth': 'growth', 'Annual growth':'annual_growth'})"
   ]
  },
  {
   "cell_type": "code",
   "execution_count": 18,
   "metadata": {},
   "outputs": [
    {
     "data": {
      "text/plain": [
       "set_num          object\n",
       "rrp              object\n",
       "current_value    object\n",
       "growth           object\n",
       "annual_growth    object\n",
       "dtype: object"
      ]
     },
     "execution_count": 18,
     "metadata": {},
     "output_type": "execute_result"
    }
   ],
   "source": [
    "# Check the data types\n",
    "brick_economy.dtypes"
   ]
  },
  {
   "cell_type": "code",
   "execution_count": 19,
   "metadata": {},
   "outputs": [],
   "source": [
    "# First extract the numeric $ value from rrp and value columns\n",
    "brick_economy['rrp'] = brick_economy['rrp'].str.replace(',','').str.extract('(\\d*\\.\\d+|\\d+)')\n",
    "\n",
    "brick_economy['current_value'] = brick_economy['current_value'].str.replace(',','').str.extract('(\\d*\\.\\d+|\\d+)')"
   ]
  },
  {
   "cell_type": "code",
   "execution_count": 20,
   "metadata": {},
   "outputs": [],
   "source": [
    "# Also extract the numeric % value from growth and annual_growth columns\n",
    "brick_economy['growth'] = brick_economy['growth'].str.replace(',','').str.extract('(\\d*\\.\\d+|\\d+)')\n",
    "\n",
    "brick_economy['annual_growth'] = brick_economy['annual_growth'].str.replace(',','').str.extract('(\\d*\\.\\d+|\\d+)')"
   ]
  },
  {
   "cell_type": "code",
   "execution_count": 21,
   "metadata": {},
   "outputs": [],
   "source": [
    "# Convert the above 4 columns to numerical data type\n",
    "cols = brick_economy.columns.drop('set_num')\n",
    "brick_economy[cols] = brick_economy[cols].astype(float)"
   ]
  },
  {
   "cell_type": "code",
   "execution_count": 22,
   "metadata": {},
   "outputs": [],
   "source": [
    "# Further convert last 2 columns to percentage values (devided by 100)\n",
    "brick_economy['growth']= brick_economy['growth']/100\n",
    "brick_economy['annual_growth']= brick_economy['annual_growth']/100"
   ]
  },
  {
   "cell_type": "code",
   "execution_count": 23,
   "metadata": {},
   "outputs": [
    {
     "data": {
      "text/plain": [
       "set_num           object\n",
       "rrp              float64\n",
       "current_value    float64\n",
       "growth           float64\n",
       "annual_growth    float64\n",
       "dtype: object"
      ]
     },
     "metadata": {},
     "output_type": "display_data"
    },
    {
     "data": {
      "text/html": [
       "<div>\n",
       "<style scoped>\n",
       "    .dataframe tbody tr th:only-of-type {\n",
       "        vertical-align: middle;\n",
       "    }\n",
       "\n",
       "    .dataframe tbody tr th {\n",
       "        vertical-align: top;\n",
       "    }\n",
       "\n",
       "    .dataframe thead th {\n",
       "        text-align: right;\n",
       "    }\n",
       "</style>\n",
       "<table border=\"1\" class=\"dataframe\">\n",
       "  <thead>\n",
       "    <tr style=\"text-align: right;\">\n",
       "      <th></th>\n",
       "      <th>set_num</th>\n",
       "      <th>rrp</th>\n",
       "      <th>current_value</th>\n",
       "      <th>growth</th>\n",
       "      <th>annual_growth</th>\n",
       "    </tr>\n",
       "  </thead>\n",
       "  <tbody>\n",
       "    <tr>\n",
       "      <th>0</th>\n",
       "      <td>001-1</td>\n",
       "      <td>6.68</td>\n",
       "      <td>93.78</td>\n",
       "      <td>13.034</td>\n",
       "      <td>0.049</td>\n",
       "    </tr>\n",
       "    <tr>\n",
       "      <th>1</th>\n",
       "      <td>0011-2</td>\n",
       "      <td>6.06</td>\n",
       "      <td>78.65</td>\n",
       "      <td>11.976</td>\n",
       "      <td>0.065</td>\n",
       "    </tr>\n",
       "    <tr>\n",
       "      <th>2</th>\n",
       "      <td>0011-3</td>\n",
       "      <td>10.13</td>\n",
       "      <td>828.62</td>\n",
       "      <td>80.839</td>\n",
       "      <td>0.143</td>\n",
       "    </tr>\n",
       "    <tr>\n",
       "      <th>3</th>\n",
       "      <td>0012-1</td>\n",
       "      <td>2.69</td>\n",
       "      <td>387.68</td>\n",
       "      <td>143.307</td>\n",
       "      <td>0.126</td>\n",
       "    </tr>\n",
       "    <tr>\n",
       "      <th>4</th>\n",
       "      <td>0013-1</td>\n",
       "      <td>2.69</td>\n",
       "      <td>344.33</td>\n",
       "      <td>127.171</td>\n",
       "      <td>0.123</td>\n",
       "    </tr>\n",
       "  </tbody>\n",
       "</table>\n",
       "</div>"
      ],
      "text/plain": [
       "  set_num    rrp  current_value   growth  annual_growth\n",
       "0   001-1   6.68          93.78   13.034          0.049\n",
       "1  0011-2   6.06          78.65   11.976          0.065\n",
       "2  0011-3  10.13         828.62   80.839          0.143\n",
       "3  0012-1   2.69         387.68  143.307          0.126\n",
       "4  0013-1   2.69         344.33  127.171          0.123"
      ]
     },
     "metadata": {},
     "output_type": "display_data"
    }
   ],
   "source": [
    "# Verify conversions\n",
    "display(brick_economy.dtypes)\n",
    "display(brick_economy.head())"
   ]
  },
  {
   "cell_type": "code",
   "execution_count": 24,
   "metadata": {},
   "outputs": [],
   "source": [
    "brick_economy.to_csv('data/brick_economy01_12_2021.csv', index = False)"
   ]
  },
  {
   "cell_type": "markdown",
   "metadata": {},
   "source": [
    "The focus is now shifted to deal with the null values in the *annual_growth* column. Note that:\n",
    "- if the *release_year* is known, the *annual_growth* can be calculated from *growth*\n",
    "- *growth* can also be calculated if both *rrp* and *current_value* are known\n",
    "The goal is to retain as many lego sets in the dataset as possible. Data from a few other websites were scraped to help achieve this goal.  "
   ]
  },
  {
   "cell_type": "markdown",
   "metadata": {},
   "source": [
    "#### LEGO.com\n",
    "Lego's official websites provides information about the original retail values."
   ]
  },
  {
   "cell_type": "code",
   "execution_count": 25,
   "metadata": {},
   "outputs": [],
   "source": [
    "lego_com = pd.read_csv('data/legocominfo.csv', index_col = 0)"
   ]
  },
  {
   "cell_type": "code",
   "execution_count": 26,
   "metadata": {},
   "outputs": [
    {
     "data": {
      "text/html": [
       "<div>\n",
       "<style scoped>\n",
       "    .dataframe tbody tr th:only-of-type {\n",
       "        vertical-align: middle;\n",
       "    }\n",
       "\n",
       "    .dataframe tbody tr th {\n",
       "        vertical-align: top;\n",
       "    }\n",
       "\n",
       "    .dataframe thead th {\n",
       "        text-align: right;\n",
       "    }\n",
       "</style>\n",
       "<table border=\"1\" class=\"dataframe\">\n",
       "  <thead>\n",
       "    <tr style=\"text-align: right;\">\n",
       "      <th></th>\n",
       "      <th>Dates</th>\n",
       "      <th>RRP</th>\n",
       "      <th>set_num</th>\n",
       "      <th>from</th>\n",
       "      <th>to</th>\n",
       "    </tr>\n",
       "  </thead>\n",
       "  <tbody>\n",
       "    <tr>\n",
       "      <th>0</th>\n",
       "      <td>24 Oct 07 - 21 Dec 07</td>\n",
       "      <td>$5.99</td>\n",
       "      <td>10054-1</td>\n",
       "      <td>24 Oct 07</td>\n",
       "      <td>21 Dec 07</td>\n",
       "    </tr>\n",
       "    <tr>\n",
       "      <th>1</th>\n",
       "      <td>31 May 11 - 21 Jul 11</td>\n",
       "      <td>CA$139.99</td>\n",
       "      <td>10155-1</td>\n",
       "      <td>31 May 11</td>\n",
       "      <td>21 Jul 11</td>\n",
       "    </tr>\n",
       "    <tr>\n",
       "      <th>2</th>\n",
       "      <td>24 Oct 07 - 22 Sep 08</td>\n",
       "      <td>$3.99</td>\n",
       "      <td>10168-1</td>\n",
       "      <td>24 Oct 07</td>\n",
       "      <td>22 Sep 08</td>\n",
       "    </tr>\n",
       "    <tr>\n",
       "      <th>3</th>\n",
       "      <td>01 Jul 08 - 27 Nov 09</td>\n",
       "      <td>£78.29</td>\n",
       "      <td>10187-1</td>\n",
       "      <td>01 Jul 08</td>\n",
       "      <td>27 Nov 09</td>\n",
       "    </tr>\n",
       "    <tr>\n",
       "      <th>4</th>\n",
       "      <td>28 Sep 11 - 21 Nov 20</td>\n",
       "      <td>CA$129.99</td>\n",
       "      <td>10220-1</td>\n",
       "      <td>28 Sep 11</td>\n",
       "      <td>21 Nov 20</td>\n",
       "    </tr>\n",
       "  </tbody>\n",
       "</table>\n",
       "</div>"
      ],
      "text/plain": [
       "                   Dates        RRP  set_num       from         to\n",
       "0  24 Oct 07 - 21 Dec 07      $5.99  10054-1  24 Oct 07  21 Dec 07\n",
       "1  31 May 11 - 21 Jul 11  CA$139.99  10155-1  31 May 11  21 Jul 11\n",
       "2  24 Oct 07 - 22 Sep 08      $3.99  10168-1  24 Oct 07  22 Sep 08\n",
       "3  01 Jul 08 - 27 Nov 09     £78.29  10187-1  01 Jul 08  27 Nov 09\n",
       "4  28 Sep 11 - 21 Nov 20  CA$129.99  10220-1  28 Sep 11  21 Nov 20"
      ]
     },
     "metadata": {},
     "output_type": "display_data"
    },
    {
     "data": {
      "text/plain": [
       "(406, 5)"
      ]
     },
     "metadata": {},
     "output_type": "display_data"
    }
   ],
   "source": [
    "display(lego_com.head())\n",
    "display(lego_com.shape)"
   ]
  },
  {
   "cell_type": "markdown",
   "metadata": {},
   "source": [
    "This is a relatively small table with information about 406 lego sets."
   ]
  },
  {
   "cell_type": "code",
   "execution_count": 27,
   "metadata": {},
   "outputs": [],
   "source": [
    "#rename columns to lower case\n",
    "lego_com.columns= lego_com.columns.str.lower()\n",
    "\n",
    "# Drop dates column due to duplicated information\n",
    "lego_com.drop('dates', axis = 1, inplace = True)"
   ]
  },
  {
   "cell_type": "code",
   "execution_count": 28,
   "metadata": {},
   "outputs": [],
   "source": [
    "# Create a currency column to differentiate different currencies\n",
    "lego_com.insert(1,'currency',1)\n",
    "lego_com['currency'][lego_com['rrp'].str.startswith('£')] = 'b'\n",
    "lego_com['currency'][lego_com['rrp'].str.startswith('CA')] = 'c'\n",
    "lego_com['currency'][lego_com['rrp'].str.startswith('$')] = 'u'"
   ]
  },
  {
   "cell_type": "code",
   "execution_count": 29,
   "metadata": {},
   "outputs": [],
   "source": [
    "# Extract the numeric currency values from the rrp column and perform conversion using the current exchange rates\n",
    "lego_com['rrp'] = lego_com['rrp'].str.extract('(\\d*\\.\\d+|\\d+)').astype(float)\n",
    "\n",
    "# Use current exchange rate of 1.27 for USD-CAD, and 1.74 for GBP-CAD\n",
    "lego_com['rrp'][lego_com['currency']=='u'] = lego_com['rrp']*1.27\n",
    "lego_com['rrp'][lego_com['currency']=='b'] = lego_com['rrp']*1.74\n",
    "\n",
    "# Drop currency column\n",
    "lego_com.drop('currency', axis =1, inplace = True)"
   ]
  },
  {
   "cell_type": "code",
   "execution_count": 30,
   "metadata": {},
   "outputs": [
    {
     "data": {
      "text/plain": [
       "count     406.000000\n",
       "mean      468.842365\n",
       "std       419.498377\n",
       "min         0.000000\n",
       "25%       227.250000\n",
       "50%       375.500000\n",
       "75%       616.000000\n",
       "max      3342.000000\n",
       "Name: availability_duration_days, dtype: float64"
      ]
     },
     "execution_count": 30,
     "metadata": {},
     "output_type": "execute_result"
    }
   ],
   "source": [
    "# Covert dates to datetime datatype\n",
    "lego_com['from'] = lego_com['from'].str.replace(' ', '-').astype('datetime64')\n",
    "lego_com['to'] = lego_com['to'].str.replace(' ', '-').astype('datetime64')\n",
    "\n",
    "# Add a column to show how long each set was available for on the official retail website\n",
    "lego_com['availability_duration_days'] = (lego_com['to'] - lego_com['from']).dt.days\n",
    "\n",
    "lego_com['availability_duration_days'].describe()"
   ]
  },
  {
   "cell_type": "markdown",
   "metadata": {},
   "source": [
    "The medium availability_duration of the lego sets on their official website is 468 days (less than 1.5 years)."
   ]
  },
  {
   "cell_type": "code",
   "execution_count": 31,
   "metadata": {},
   "outputs": [
    {
     "data": {
      "text/plain": [
       "rrp                                  float64\n",
       "set_num                               object\n",
       "from                          datetime64[ns]\n",
       "to                            datetime64[ns]\n",
       "availability_duration_days             int64\n",
       "dtype: object"
      ]
     },
     "execution_count": 31,
     "metadata": {},
     "output_type": "execute_result"
    }
   ],
   "source": [
    "lego_com.dtypes"
   ]
  },
  {
   "cell_type": "code",
   "execution_count": 32,
   "metadata": {},
   "outputs": [],
   "source": [
    "#Create a dictionary between set_num and rrp\n",
    "legocom_rrp_dict = {lego_com['set_num'][i]:lego_com['rrp'][i] for i in range(lego_com.shape[0])}"
   ]
  },
  {
   "cell_type": "code",
   "execution_count": 33,
   "metadata": {},
   "outputs": [],
   "source": [
    "# Fill in the nulls in the rrp column of the brick_economy dataframe using above dictionary \n",
    "for i in range(brick_economy.shape[0]):\n",
    "    if (np.isnan(brick_economy['rrp'][i])) & (brick_economy['set_num'][i] in legocom_rrp_dict.keys()):\n",
    "        brick_economy['rrp'][i] = legocom_rrp_dict[brick_economy['set_num'][i]]"
   ]
  },
  {
   "cell_type": "markdown",
   "metadata": {},
   "source": [
    "#### BrickLink\n",
    "BrickLink is one of the main secondary Lego markets. It provides up to date information about the current values of the lego sets."
   ]
  },
  {
   "cell_type": "code",
   "execution_count": 34,
   "metadata": {},
   "outputs": [],
   "source": [
    "# Concatenate the two dataframes scraped from Bricklink into one\n",
    "bricklink1 = pd.read_csv('data/bricklink_price.csv', index_col = 0, header =0, names = ['set_num', 'value_new', 'value_used'])\n",
    "bricklink2 = pd.read_csv('data/bricklink_price2.csv', index_col = 0, header =0, names = ['set_num', 'value_new', 'value_used'])\n",
    "\n",
    "bricklink = pd.concat([bricklink1,bricklink2], axis =0, ignore_index = True).drop_duplicates(ignore_index = True)"
   ]
  },
  {
   "cell_type": "code",
   "execution_count": 35,
   "metadata": {},
   "outputs": [
    {
     "data": {
      "text/html": [
       "<div>\n",
       "<style scoped>\n",
       "    .dataframe tbody tr th:only-of-type {\n",
       "        vertical-align: middle;\n",
       "    }\n",
       "\n",
       "    .dataframe tbody tr th {\n",
       "        vertical-align: top;\n",
       "    }\n",
       "\n",
       "    .dataframe thead th {\n",
       "        text-align: right;\n",
       "    }\n",
       "</style>\n",
       "<table border=\"1\" class=\"dataframe\">\n",
       "  <thead>\n",
       "    <tr style=\"text-align: right;\">\n",
       "      <th></th>\n",
       "      <th>set_num</th>\n",
       "      <th>value_new</th>\n",
       "      <th>value_used</th>\n",
       "    </tr>\n",
       "  </thead>\n",
       "  <tbody>\n",
       "    <tr>\n",
       "      <th>0</th>\n",
       "      <td>001-1</td>\n",
       "      <td>-</td>\n",
       "      <td>CA $80.26</td>\n",
       "    </tr>\n",
       "    <tr>\n",
       "      <th>1</th>\n",
       "      <td>0011-2</td>\n",
       "      <td>-</td>\n",
       "      <td>CA $22.26</td>\n",
       "    </tr>\n",
       "    <tr>\n",
       "      <th>2</th>\n",
       "      <td>0016-1</td>\n",
       "      <td>-</td>\n",
       "      <td>-</td>\n",
       "    </tr>\n",
       "    <tr>\n",
       "      <th>3</th>\n",
       "      <td>002-1</td>\n",
       "      <td>-</td>\n",
       "      <td>CA $147.68</td>\n",
       "    </tr>\n",
       "    <tr>\n",
       "      <th>4</th>\n",
       "      <td>005-2</td>\n",
       "      <td>-</td>\n",
       "      <td>CA $98.23</td>\n",
       "    </tr>\n",
       "  </tbody>\n",
       "</table>\n",
       "</div>"
      ],
      "text/plain": [
       "  set_num value_new  value_used\n",
       "0   001-1         -   CA $80.26\n",
       "1  0011-2         -   CA $22.26\n",
       "2  0016-1         -           -\n",
       "3   002-1         -  CA $147.68\n",
       "4   005-2         -   CA $98.23"
      ]
     },
     "metadata": {},
     "output_type": "display_data"
    },
    {
     "data": {
      "text/plain": [
       "(11440, 3)"
      ]
     },
     "metadata": {},
     "output_type": "display_data"
    }
   ],
   "source": [
    "display(bricklink.head())\n",
    "display(bricklink.shape)"
   ]
  },
  {
   "cell_type": "code",
   "execution_count": 36,
   "metadata": {},
   "outputs": [
    {
     "data": {
      "text/plain": [
       "set_num       0.0\n",
       "value_new     0.0\n",
       "value_used    0.0\n",
       "dtype: float64"
      ]
     },
     "execution_count": 36,
     "metadata": {},
     "output_type": "execute_result"
    }
   ],
   "source": [
    "bricklink.isnull().mean()"
   ]
  },
  {
   "cell_type": "markdown",
   "metadata": {},
   "source": [
    "A large portion (11440/16195) of the lego sets can be found trading on bricklink. Conditions include new and used. "
   ]
  },
  {
   "cell_type": "code",
   "execution_count": 37,
   "metadata": {},
   "outputs": [],
   "source": [
    "# Extract the numerical $ values from the 'value_new' and 'value_used' columns\n",
    "bricklink['value_new'] = bricklink['value_new'].str.split('$').str[1]\n",
    "bricklink['value_used'] = bricklink['value_used'].str.split('$').str[1]\n",
    "\n",
    "# Convert columns to Numeric data type\n",
    "bricklink['value_new'] = bricklink['value_new'].str.replace(',','').astype(float)\n",
    "bricklink['value_used'] = bricklink['value_used'].str.replace(',','').astype(float)"
   ]
  },
  {
   "cell_type": "code",
   "execution_count": 38,
   "metadata": {},
   "outputs": [],
   "source": [
    "# The current_values in BrickEconomy are for new sets. Rename 'value_new' to 'current_value'\n",
    "bricklink = bricklink.rename(columns = {'value_new':'current_value'})"
   ]
  },
  {
   "cell_type": "code",
   "execution_count": 39,
   "metadata": {},
   "outputs": [],
   "source": [
    "#Creat a set_num - current_value dictionary\n",
    "bricklink_dict = {bricklink['set_num'][i]:bricklink['current_value'][i]\\\n",
    "                  for i in range(bricklink.shape[0])}"
   ]
  },
  {
   "cell_type": "code",
   "execution_count": 40,
   "metadata": {},
   "outputs": [],
   "source": [
    "# Fill in the nulls in the current_value column of the brick_economy dataframe using above dictionary \n",
    "for i in range(brick_economy.shape[0]):\n",
    "    if (np.isnan(brick_economy['current_value'][i])) & (brick_economy['set_num'][i] in bricklink_dict.keys()):\n",
    "        brick_economy['current_value'][i] = bricklink_dict[brick_economy['set_num'][i]]"
   ]
  },
  {
   "cell_type": "markdown",
   "metadata": {},
   "source": [
    "#### BrickOwl\n",
    "BrickOwl is another main secondary Lego markets. It also provides up to date information about the current values of the lego sets."
   ]
  },
  {
   "cell_type": "code",
   "execution_count": 42,
   "metadata": {},
   "outputs": [],
   "source": [
    "brick_owl = pd.read_csv('data/brick_owl.csv')"
   ]
  },
  {
   "cell_type": "code",
   "execution_count": 43,
   "metadata": {},
   "outputs": [
    {
     "data": {
      "text/html": [
       "<div>\n",
       "<style scoped>\n",
       "    .dataframe tbody tr th:only-of-type {\n",
       "        vertical-align: middle;\n",
       "    }\n",
       "\n",
       "    .dataframe tbody tr th {\n",
       "        vertical-align: top;\n",
       "    }\n",
       "\n",
       "    .dataframe thead th {\n",
       "        text-align: right;\n",
       "    }\n",
       "</style>\n",
       "<table border=\"1\" class=\"dataframe\">\n",
       "  <thead>\n",
       "    <tr style=\"text-align: right;\">\n",
       "      <th></th>\n",
       "      <th>set_num</th>\n",
       "      <th>value</th>\n",
       "    </tr>\n",
       "  </thead>\n",
       "  <tbody>\n",
       "    <tr>\n",
       "      <th>0</th>\n",
       "      <td>10000-1</td>\n",
       "      <td>224.72</td>\n",
       "    </tr>\n",
       "    <tr>\n",
       "      <th>1</th>\n",
       "      <td>10001-1</td>\n",
       "      <td>457.96</td>\n",
       "    </tr>\n",
       "    <tr>\n",
       "      <th>2</th>\n",
       "      <td>10013-1</td>\n",
       "      <td>99.35</td>\n",
       "    </tr>\n",
       "    <tr>\n",
       "      <th>3</th>\n",
       "      <td>10016-1</td>\n",
       "      <td>247.25</td>\n",
       "    </tr>\n",
       "    <tr>\n",
       "      <th>4</th>\n",
       "      <td>10017-1</td>\n",
       "      <td>147.48</td>\n",
       "    </tr>\n",
       "  </tbody>\n",
       "</table>\n",
       "</div>"
      ],
      "text/plain": [
       "   set_num   value\n",
       "0  10000-1  224.72\n",
       "1  10001-1  457.96\n",
       "2  10013-1   99.35\n",
       "3  10016-1  247.25\n",
       "4  10017-1  147.48"
      ]
     },
     "metadata": {},
     "output_type": "display_data"
    },
    {
     "data": {
      "text/plain": [
       "(5158, 2)"
      ]
     },
     "metadata": {},
     "output_type": "display_data"
    }
   ],
   "source": [
    "display(brick_owl.head())\n",
    "display(brick_owl.shape)"
   ]
  },
  {
   "cell_type": "markdown",
   "metadata": {},
   "source": [
    "Close to 1/3 (5158/16195) of the recorded lego sets could be found trading on BrickOwl."
   ]
  },
  {
   "cell_type": "code",
   "execution_count": 44,
   "metadata": {},
   "outputs": [],
   "source": [
    "# Similar to the BrickLink dataframe, create a set_num - value dictionary\n",
    "brickowl_dict = {brick_owl['set_num'][i]:brick_owl['value'][i]\\\n",
    "                  for i in range(brick_owl.shape[0])}"
   ]
  },
  {
   "cell_type": "code",
   "execution_count": 45,
   "metadata": {},
   "outputs": [],
   "source": [
    "# Fill in the nulls in the current_value column of the brick_economy dataframe using above dictionary\n",
    "for i in range(brick_economy.shape[0]):\n",
    "    if (np.isnan(brick_economy['current_value'][i])) & (brick_economy['set_num'][i] in brickowl_dict.keys()):\n",
    "        brick_economy['current_value'][i] = brickowl_dict[brick_economy['set_num'][i]]"
   ]
  },
  {
   "cell_type": "markdown",
   "metadata": {},
   "source": [
    "Upon inspection, the prices for the following 7 sets were actually prices for multiple-set bundles. Correct for the quantity in the bundle below."
   ]
  },
  {
   "cell_type": "code",
   "execution_count": 47,
   "metadata": {},
   "outputs": [],
   "source": [
    "brick_economy.loc[10060, 'current_value'] = brick_economy.loc[10060, 'current_value']/60\n",
    "brick_economy.loc[10022, 'current_value'] = brick_economy.loc[10022, 'current_value']/60\n",
    "brick_economy.loc[10059, 'current_value'] = brick_economy.loc[10059, 'current_value']/16\n",
    "brick_economy.loc[10021, 'current_value'] = brick_economy.loc[10021, 'current_value']/16\n",
    "brick_economy.loc[10040, 'current_value'] = brick_economy.loc[10040, 'current_value']/16\n",
    "brick_economy.loc[10200, 'current_value'] = brick_economy.loc[10200, 'current_value']/10\n",
    "brick_economy.loc[10236, 'current_value'] = brick_economy.loc[10236, 'current_value']/10"
   ]
  },
  {
   "cell_type": "markdown",
   "metadata": {},
   "source": [
    "#### Load in release year information to further reduce null values."
   ]
  },
  {
   "cell_type": "code",
   "execution_count": 48,
   "metadata": {},
   "outputs": [],
   "source": [
    "# The release_year information can be found in the Lego_sets table. Create a 'set_num' - 'year' dictionary\n",
    "lego_year_dict = {lego_sets['set_num'][i]:lego_sets['year'][i]\\\n",
    "                  for i in range(lego_sets.shape[0])}"
   ]
  },
  {
   "cell_type": "code",
   "execution_count": 49,
   "metadata": {},
   "outputs": [],
   "source": [
    "# Add the release_year to\n",
    "brick_economy['release_year'] = [lego_year_dict[set_num] for set_num in brick_economy['set_num']] "
   ]
  },
  {
   "cell_type": "code",
   "execution_count": 50,
   "metadata": {},
   "outputs": [
    {
     "data": {
      "text/html": [
       "<div>\n",
       "<style scoped>\n",
       "    .dataframe tbody tr th:only-of-type {\n",
       "        vertical-align: middle;\n",
       "    }\n",
       "\n",
       "    .dataframe tbody tr th {\n",
       "        vertical-align: top;\n",
       "    }\n",
       "\n",
       "    .dataframe thead th {\n",
       "        text-align: right;\n",
       "    }\n",
       "</style>\n",
       "<table border=\"1\" class=\"dataframe\">\n",
       "  <thead>\n",
       "    <tr style=\"text-align: right;\">\n",
       "      <th></th>\n",
       "      <th>rrp</th>\n",
       "      <th>current_value</th>\n",
       "      <th>growth</th>\n",
       "      <th>annual_growth</th>\n",
       "      <th>release_year</th>\n",
       "    </tr>\n",
       "  </thead>\n",
       "  <tbody>\n",
       "    <tr>\n",
       "      <th>count</th>\n",
       "      <td>11756.000000</td>\n",
       "      <td>12965.000000</td>\n",
       "      <td>9678.000000</td>\n",
       "      <td>11043.000000</td>\n",
       "      <td>14246.000000</td>\n",
       "    </tr>\n",
       "    <tr>\n",
       "      <th>mean</th>\n",
       "      <td>37.701740</td>\n",
       "      <td>168.842803</td>\n",
       "      <td>8.854370</td>\n",
       "      <td>0.102433</td>\n",
       "      <td>2004.929524</td>\n",
       "    </tr>\n",
       "    <tr>\n",
       "      <th>std</th>\n",
       "      <td>86.981419</td>\n",
       "      <td>443.251349</td>\n",
       "      <td>39.303947</td>\n",
       "      <td>0.072428</td>\n",
       "      <td>13.890646</td>\n",
       "    </tr>\n",
       "    <tr>\n",
       "      <th>min</th>\n",
       "      <td>0.540000</td>\n",
       "      <td>1.530000</td>\n",
       "      <td>0.000000</td>\n",
       "      <td>0.010000</td>\n",
       "      <td>1955.000000</td>\n",
       "    </tr>\n",
       "    <tr>\n",
       "      <th>25%</th>\n",
       "      <td>6.990000</td>\n",
       "      <td>20.200000</td>\n",
       "      <td>0.690000</td>\n",
       "      <td>0.054000</td>\n",
       "      <td>1998.000000</td>\n",
       "    </tr>\n",
       "    <tr>\n",
       "      <th>50%</th>\n",
       "      <td>17.990000</td>\n",
       "      <td>54.220000</td>\n",
       "      <td>1.966000</td>\n",
       "      <td>0.083000</td>\n",
       "      <td>2009.000000</td>\n",
       "    </tr>\n",
       "    <tr>\n",
       "      <th>75%</th>\n",
       "      <td>40.490000</td>\n",
       "      <td>151.160000</td>\n",
       "      <td>5.099750</td>\n",
       "      <td>0.126000</td>\n",
       "      <td>2016.000000</td>\n",
       "    </tr>\n",
       "    <tr>\n",
       "      <th>max</th>\n",
       "      <td>5219.100000</td>\n",
       "      <td>13498.650000</td>\n",
       "      <td>1600.201000</td>\n",
       "      <td>0.393000</td>\n",
       "      <td>2021.000000</td>\n",
       "    </tr>\n",
       "  </tbody>\n",
       "</table>\n",
       "</div>"
      ],
      "text/plain": [
       "                rrp  current_value       growth  annual_growth  release_year\n",
       "count  11756.000000   12965.000000  9678.000000   11043.000000  14246.000000\n",
       "mean      37.701740     168.842803     8.854370       0.102433   2004.929524\n",
       "std       86.981419     443.251349    39.303947       0.072428     13.890646\n",
       "min        0.540000       1.530000     0.000000       0.010000   1955.000000\n",
       "25%        6.990000      20.200000     0.690000       0.054000   1998.000000\n",
       "50%       17.990000      54.220000     1.966000       0.083000   2009.000000\n",
       "75%       40.490000     151.160000     5.099750       0.126000   2016.000000\n",
       "max     5219.100000   13498.650000  1600.201000       0.393000   2021.000000"
      ]
     },
     "execution_count": 50,
     "metadata": {},
     "output_type": "execute_result"
    }
   ],
   "source": [
    "brick_economy.describe()"
   ]
  },
  {
   "cell_type": "code",
   "execution_count": 88,
   "metadata": {},
   "outputs": [],
   "source": [
    "# Create a copy of the dataframe to test annual growth calculations\n",
    "annual_growth = brick_economy.copy()"
   ]
  },
  {
   "cell_type": "code",
   "execution_count": 89,
   "metadata": {},
   "outputs": [],
   "source": [
    "# First calculate the 'growth' based on 'rrp' and 'current_value' \n",
    "for i in range(annual_growth.shape[0]):\n",
    "    if (np.isnan(annual_growth.loc[i, 'growth'])) & (annual_growth.loc[i, 'rrp'] !=0):\n",
    "        annual_growth.loc[i, 'growth'] = max((annual_growth.loc[i, 'current_value']/annual_growth.loc[i, 'rrp']-1),0)"
   ]
  },
  {
   "cell_type": "code",
   "execution_count": 90,
   "metadata": {},
   "outputs": [],
   "source": [
    "# Calculate 'annual_growth' based on 'growth'\n",
    "for i in range(annual_growth.shape[0]):\n",
    "    if np.isnan(annual_growth.loc[i, 'annual_growth']) & (not np.isnan(annual_growth.loc[i, 'growth'])) & (annual_growth.loc[i,'release_year'] !=2021):\n",
    "        annual_growth.loc[i, 'annual_growth'] = max(annual_growth.loc[i, 'growth']**(1/(2021-annual_growth.loc[i,'release_year']))-1,0)"
   ]
  },
  {
   "cell_type": "code",
   "execution_count": 107,
   "metadata": {},
   "outputs": [
    {
     "data": {
      "text/html": [
       "<div>\n",
       "<style scoped>\n",
       "    .dataframe tbody tr th:only-of-type {\n",
       "        vertical-align: middle;\n",
       "    }\n",
       "\n",
       "    .dataframe tbody tr th {\n",
       "        vertical-align: top;\n",
       "    }\n",
       "\n",
       "    .dataframe thead th {\n",
       "        text-align: right;\n",
       "    }\n",
       "</style>\n",
       "<table border=\"1\" class=\"dataframe\">\n",
       "  <thead>\n",
       "    <tr style=\"text-align: right;\">\n",
       "      <th></th>\n",
       "      <th>set_num</th>\n",
       "      <th>rrp</th>\n",
       "      <th>current_value</th>\n",
       "      <th>growth</th>\n",
       "      <th>annual_growth</th>\n",
       "      <th>release_year</th>\n",
       "    </tr>\n",
       "  </thead>\n",
       "  <tbody>\n",
       "    <tr>\n",
       "      <th>439</th>\n",
       "      <td>106-1</td>\n",
       "      <td>NaN</td>\n",
       "      <td>13498.65</td>\n",
       "      <td>NaN</td>\n",
       "      <td>0.364</td>\n",
       "      <td>1985</td>\n",
       "    </tr>\n",
       "    <tr>\n",
       "      <th>3871</th>\n",
       "      <td>375-2</td>\n",
       "      <td>67.49</td>\n",
       "      <td>11475.00</td>\n",
       "      <td>169.034</td>\n",
       "      <td>0.130</td>\n",
       "      <td>1978</td>\n",
       "    </tr>\n",
       "    <tr>\n",
       "      <th>3439</th>\n",
       "      <td>330-3</td>\n",
       "      <td>NaN</td>\n",
       "      <td>9717.53</td>\n",
       "      <td>NaN</td>\n",
       "      <td>NaN</td>\n",
       "      <td>1968</td>\n",
       "    </tr>\n",
       "    <tr>\n",
       "      <th>14012</th>\n",
       "      <td>comcon028-1</td>\n",
       "      <td>NaN</td>\n",
       "      <td>7904.68</td>\n",
       "      <td>NaN</td>\n",
       "      <td>0.167</td>\n",
       "      <td>2013</td>\n",
       "    </tr>\n",
       "    <tr>\n",
       "      <th>11326</th>\n",
       "      <td>7750-1</td>\n",
       "      <td>101.25</td>\n",
       "      <td>7830.84</td>\n",
       "      <td>76.342</td>\n",
       "      <td>0.242</td>\n",
       "      <td>1980</td>\n",
       "    </tr>\n",
       "  </tbody>\n",
       "</table>\n",
       "</div>"
      ],
      "text/plain": [
       "           set_num     rrp  current_value   growth  annual_growth  \\\n",
       "439          106-1     NaN       13498.65      NaN          0.364   \n",
       "3871         375-2   67.49       11475.00  169.034          0.130   \n",
       "3439         330-3     NaN        9717.53      NaN            NaN   \n",
       "14012  comcon028-1     NaN        7904.68      NaN          0.167   \n",
       "11326       7750-1  101.25        7830.84   76.342          0.242   \n",
       "\n",
       "       release_year  \n",
       "439            1985  \n",
       "3871           1978  \n",
       "3439           1968  \n",
       "14012          2013  \n",
       "11326          1980  "
      ]
     },
     "execution_count": 107,
     "metadata": {},
     "output_type": "execute_result"
    }
   ],
   "source": [
    "# most expensive now\n",
    "brick_economy.sort_values('current_value', ascending = False).head(5)"
   ]
  },
  {
   "cell_type": "code",
   "execution_count": 93,
   "metadata": {},
   "outputs": [],
   "source": [
    "annual_growth = annual_growth.drop(columns = ['current_value','growth','release_year']).dropna().reset_index(drop = True)"
   ]
  },
  {
   "cell_type": "code",
   "execution_count": 94,
   "metadata": {},
   "outputs": [],
   "source": [
    "annual_growth.to_csv('data/lego_annual_growth.csv', index = False)"
   ]
  },
  {
   "cell_type": "code",
   "execution_count": 95,
   "metadata": {},
   "outputs": [
    {
     "data": {
      "text/html": [
       "<div>\n",
       "<style scoped>\n",
       "    .dataframe tbody tr th:only-of-type {\n",
       "        vertical-align: middle;\n",
       "    }\n",
       "\n",
       "    .dataframe tbody tr th {\n",
       "        vertical-align: top;\n",
       "    }\n",
       "\n",
       "    .dataframe thead th {\n",
       "        text-align: right;\n",
       "    }\n",
       "</style>\n",
       "<table border=\"1\" class=\"dataframe\">\n",
       "  <thead>\n",
       "    <tr style=\"text-align: right;\">\n",
       "      <th></th>\n",
       "      <th>set_num</th>\n",
       "      <th>rrp</th>\n",
       "      <th>annual_growth</th>\n",
       "    </tr>\n",
       "  </thead>\n",
       "  <tbody>\n",
       "    <tr>\n",
       "      <th>0</th>\n",
       "      <td>001-1</td>\n",
       "      <td>6.68</td>\n",
       "      <td>0.049</td>\n",
       "    </tr>\n",
       "    <tr>\n",
       "      <th>1</th>\n",
       "      <td>0011-2</td>\n",
       "      <td>6.06</td>\n",
       "      <td>0.065</td>\n",
       "    </tr>\n",
       "    <tr>\n",
       "      <th>2</th>\n",
       "      <td>0011-3</td>\n",
       "      <td>10.13</td>\n",
       "      <td>0.143</td>\n",
       "    </tr>\n",
       "    <tr>\n",
       "      <th>3</th>\n",
       "      <td>0012-1</td>\n",
       "      <td>2.69</td>\n",
       "      <td>0.126</td>\n",
       "    </tr>\n",
       "    <tr>\n",
       "      <th>4</th>\n",
       "      <td>0013-1</td>\n",
       "      <td>2.69</td>\n",
       "      <td>0.123</td>\n",
       "    </tr>\n",
       "  </tbody>\n",
       "</table>\n",
       "</div>"
      ],
      "text/plain": [
       "  set_num    rrp  annual_growth\n",
       "0   001-1   6.68          0.049\n",
       "1  0011-2   6.06          0.065\n",
       "2  0011-3  10.13          0.143\n",
       "3  0012-1   2.69          0.126\n",
       "4  0013-1   2.69          0.123"
      ]
     },
     "execution_count": 95,
     "metadata": {},
     "output_type": "execute_result"
    }
   ],
   "source": [
    "annual_growth.head()"
   ]
  },
  {
   "cell_type": "code",
   "execution_count": 103,
   "metadata": {},
   "outputs": [
    {
     "data": {
      "text/plain": [
       "(10743, 3)"
      ]
     },
     "execution_count": 103,
     "metadata": {},
     "output_type": "execute_result"
    }
   ],
   "source": [
    "annual_growth.shape"
   ]
  },
  {
   "cell_type": "markdown",
   "metadata": {},
   "source": [
    "The final data frame created here contains information about the original retail price and the annual value growth for 10,743 lego sets. "
   ]
  },
  {
   "cell_type": "markdown",
   "metadata": {},
   "source": [
    "#### Brickinsights Review Score"
   ]
  },
  {
   "cell_type": "code",
   "execution_count": 3,
   "metadata": {},
   "outputs": [
    {
     "data": {
      "text/html": [
       "<div>\n",
       "<style scoped>\n",
       "    .dataframe tbody tr th:only-of-type {\n",
       "        vertical-align: middle;\n",
       "    }\n",
       "\n",
       "    .dataframe tbody tr th {\n",
       "        vertical-align: top;\n",
       "    }\n",
       "\n",
       "    .dataframe thead th {\n",
       "        text-align: right;\n",
       "    }\n",
       "</style>\n",
       "<table border=\"1\" class=\"dataframe\">\n",
       "  <thead>\n",
       "    <tr style=\"text-align: right;\">\n",
       "      <th></th>\n",
       "      <th>set_num</th>\n",
       "      <th>review_score</th>\n",
       "      <th>detail</th>\n",
       "      <th>recommendation</th>\n",
       "    </tr>\n",
       "  </thead>\n",
       "  <tbody>\n",
       "    <tr>\n",
       "      <th>0</th>\n",
       "      <td>001-1</td>\n",
       "      <td>Unknown</td>\n",
       "      <td>Average PPP for System in 1965 is 0.43. PPP fo...</td>\n",
       "      <td>Recommendation: yes 80 / 100 → 80 / 100</td>\n",
       "    </tr>\n",
       "    <tr>\n",
       "      <th>1</th>\n",
       "      <td>0011-2</td>\n",
       "      <td>Unknown</td>\n",
       "      <td>We do not currently know how the average price...</td>\n",
       "      <td>Recommendation: meh 75 / 100 → 75 / 100</td>\n",
       "    </tr>\n",
       "    <tr>\n",
       "      <th>2</th>\n",
       "      <td>0012-1</td>\n",
       "      <td>Unknown</td>\n",
       "      <td>We do not currently know how the average price...</td>\n",
       "      <td>Recommendation: meh 70 / 100 → 70 / 100</td>\n",
       "    </tr>\n",
       "    <tr>\n",
       "      <th>3</th>\n",
       "      <td>0013-1</td>\n",
       "      <td>Unknown</td>\n",
       "      <td>We do not currently know how the average price...</td>\n",
       "      <td>Recommendation: meh 62 / 100 → 62 / 100</td>\n",
       "    </tr>\n",
       "    <tr>\n",
       "      <th>4</th>\n",
       "      <td>0014-1</td>\n",
       "      <td>59</td>\n",
       "      <td>We do not currently know how the average price...</td>\n",
       "      <td>Recommendation: meh 62 / 100 → 62 / 100</td>\n",
       "    </tr>\n",
       "    <tr>\n",
       "      <th>...</th>\n",
       "      <td>...</td>\n",
       "      <td>...</td>\n",
       "      <td>...</td>\n",
       "      <td>...</td>\n",
       "    </tr>\n",
       "    <tr>\n",
       "      <th>10710</th>\n",
       "      <td>TRUNEXOMONSTER-1</td>\n",
       "      <td>Unknown</td>\n",
       "      <td>We do not currently know how the average price...</td>\n",
       "      <td>Recommendation: meh</td>\n",
       "    </tr>\n",
       "    <tr>\n",
       "      <th>10711</th>\n",
       "      <td>WEETABIX1-1</td>\n",
       "      <td>Unknown</td>\n",
       "      <td>We do not currently know how the average price...</td>\n",
       "      <td>Recommendation: yes 84 / 100 → 84 / 100</td>\n",
       "    </tr>\n",
       "    <tr>\n",
       "      <th>10712</th>\n",
       "      <td>WEETABIX2-1</td>\n",
       "      <td>Unknown</td>\n",
       "      <td>We do not currently know how the average price...</td>\n",
       "      <td>Recommendation: yes 83 / 100 → 83 / 100</td>\n",
       "    </tr>\n",
       "    <tr>\n",
       "      <th>10713</th>\n",
       "      <td>WEETABIX3-1</td>\n",
       "      <td>Unknown</td>\n",
       "      <td>We do not currently know how the average price...</td>\n",
       "      <td>Recommendation: yes 88 / 100 → 88 / 100</td>\n",
       "    </tr>\n",
       "    <tr>\n",
       "      <th>10714</th>\n",
       "      <td>WEETABIX4-1</td>\n",
       "      <td>Unknown</td>\n",
       "      <td>We do not currently know how the average price...</td>\n",
       "      <td>Recommendation: yes 90 / 100 → 90 / 100</td>\n",
       "    </tr>\n",
       "  </tbody>\n",
       "</table>\n",
       "<p>10715 rows × 4 columns</p>\n",
       "</div>"
      ],
      "text/plain": [
       "                set_num review_score  \\\n",
       "0                 001-1      Unknown   \n",
       "1                0011-2      Unknown   \n",
       "2                0012-1      Unknown   \n",
       "3                0013-1      Unknown   \n",
       "4                0014-1           59   \n",
       "...                 ...          ...   \n",
       "10710  TRUNEXOMONSTER-1      Unknown   \n",
       "10711       WEETABIX1-1      Unknown   \n",
       "10712       WEETABIX2-1      Unknown   \n",
       "10713       WEETABIX3-1      Unknown   \n",
       "10714       WEETABIX4-1      Unknown   \n",
       "\n",
       "                                                  detail  \\\n",
       "0      Average PPP for System in 1965 is 0.43. PPP fo...   \n",
       "1      We do not currently know how the average price...   \n",
       "2      We do not currently know how the average price...   \n",
       "3      We do not currently know how the average price...   \n",
       "4      We do not currently know how the average price...   \n",
       "...                                                  ...   \n",
       "10710  We do not currently know how the average price...   \n",
       "10711  We do not currently know how the average price...   \n",
       "10712  We do not currently know how the average price...   \n",
       "10713  We do not currently know how the average price...   \n",
       "10714  We do not currently know how the average price...   \n",
       "\n",
       "                                recommendation  \n",
       "0      Recommendation: yes 80 / 100 → 80 / 100  \n",
       "1      Recommendation: meh 75 / 100 → 75 / 100  \n",
       "2      Recommendation: meh 70 / 100 → 70 / 100  \n",
       "3      Recommendation: meh 62 / 100 → 62 / 100  \n",
       "4      Recommendation: meh 62 / 100 → 62 / 100  \n",
       "...                                        ...  \n",
       "10710                      Recommendation: meh  \n",
       "10711  Recommendation: yes 84 / 100 → 84 / 100  \n",
       "10712  Recommendation: yes 83 / 100 → 83 / 100  \n",
       "10713  Recommendation: yes 88 / 100 → 88 / 100  \n",
       "10714  Recommendation: yes 90 / 100 → 90 / 100  \n",
       "\n",
       "[10715 rows x 4 columns]"
      ]
     },
     "execution_count": 3,
     "metadata": {},
     "output_type": "execute_result"
    }
   ],
   "source": [
    "brick_insights = pd.read_csv('data/brick_insights_reviewscore01032021.csv', header =0, names=['set_num', 'review_score','detail', 'recommendation'])\n",
    "brick_insights"
   ]
  },
  {
   "cell_type": "code",
   "execution_count": 4,
   "metadata": {},
   "outputs": [],
   "source": [
    "# Drop detail column\n",
    "brick_insights.drop('detail', axis = 1, inplace = True)"
   ]
  },
  {
   "cell_type": "code",
   "execution_count": 5,
   "metadata": {},
   "outputs": [],
   "source": [
    "import re\n",
    "\n",
    "# Extract extra review scores from the recommendation column\n",
    "scores = []\n",
    "\n",
    "for i in brick_insights['recommendation']:\n",
    "   \n",
    "    if re.findall('\\d+', i) == []:\n",
    "        scores.append(float('NaN'))    \n",
    "    else:\n",
    "        scores.append(re.findall('\\d+', i)[-2])"
   ]
  },
  {
   "cell_type": "code",
   "execution_count": 6,
   "metadata": {},
   "outputs": [],
   "source": [
    "# Append these additional scores to the brick_insights dataframe\n",
    "brick_insights['additional_scores'] = scores"
   ]
  },
  {
   "cell_type": "code",
   "execution_count": 7,
   "metadata": {},
   "outputs": [],
   "source": [
    "# Replace Unknown values in review_score column with values from Additional_score column where possible\n",
    "for i in range(brick_insights.shape[0]):\n",
    "    if brick_insights['review_score'][i] == 'Unknown':\n",
    "        brick_insights['review_score'][i] = brick_insights['additional_scores'][i]"
   ]
  },
  {
   "cell_type": "code",
   "execution_count": 8,
   "metadata": {},
   "outputs": [],
   "source": [
    "# Convert review_score to numerical datatype\n",
    "\n",
    "brick_insights['review_score'] = brick_insights['review_score'].astype(float)\n",
    "\n",
    "# Dop recommendation and additional_score columns\n",
    "brick_insights.drop(['recommendation','additional_scores'],axis =1, inplace = True)"
   ]
  },
  {
   "cell_type": "code",
   "execution_count": 9,
   "metadata": {},
   "outputs": [
    {
     "data": {
      "text/plain": [
       "set_num         0.000000\n",
       "review_score    0.035931\n",
       "dtype: float64"
      ]
     },
     "execution_count": 9,
     "metadata": {},
     "output_type": "execute_result"
    }
   ],
   "source": [
    "brick_insights.isnull().mean()"
   ]
  },
  {
   "cell_type": "code",
   "execution_count": 10,
   "metadata": {},
   "outputs": [],
   "source": [
    "# Since the proporation of null values is low (~3.6%), use forward-fill to fill the Nulls\n",
    "brick_insights.fillna(method = 'ffill', inplace = True)"
   ]
  },
  {
   "cell_type": "code",
   "execution_count": 11,
   "metadata": {},
   "outputs": [
    {
     "data": {
      "text/plain": [
       "set_num         0.0\n",
       "review_score    0.0\n",
       "dtype: float64"
      ]
     },
     "execution_count": 11,
     "metadata": {},
     "output_type": "execute_result"
    }
   ],
   "source": [
    "# confirm removal\n",
    "brick_insights.isnull().mean()"
   ]
  },
  {
   "cell_type": "code",
   "execution_count": 12,
   "metadata": {},
   "outputs": [],
   "source": [
    "brick_insights.to_csv('data/brick_insights.csv', index = False)"
   ]
  }
 ],
 "metadata": {
  "kernelspec": {
   "display_name": "Python 3",
   "language": "python",
   "name": "python3"
  },
  "language_info": {
   "codemirror_mode": {
    "name": "ipython",
    "version": 3
   },
   "file_extension": ".py",
   "mimetype": "text/x-python",
   "name": "python",
   "nbconvert_exporter": "python",
   "pygments_lexer": "ipython3",
   "version": "3.8.5"
  }
 },
 "nbformat": 4,
 "nbformat_minor": 4
}
